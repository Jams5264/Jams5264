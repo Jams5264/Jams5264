{
 "cells": [
  {
   "cell_type": "code",
   "execution_count": 6,
   "id": "bcdfaa41-61ac-4975-828a-116d672c3530",
   "metadata": {},
   "outputs": [
    {
     "name": "stdout",
     "output_type": "stream",
     "text": [
      "5\n"
     ]
    }
   ],
   "source": [
    "\n",
    "score = [5,0]\n",
    "\n",
    "counter1 = score[0]\n",
    "counter2 = score[1]\n",
    "\n",
    "while counter1 == range(4,6):\n",
    "    print(\"You've won this round!\")\n",
    "    if counter1 == range(0,2):\n",
    "        print(\"You've lost this round!\")\n",
    "    elif counter2 == range(4,6):\n",
    "        print(\"I've won this round! Better luck next time!\")\n",
    "    elif counter2 == range(0,2):\n",
    "        print(\"I've lost this round! Great Job!\")\n",
    "    else:\n",
    "        play_again = input(\"Great game! Would you like to play again?\\n(y or n)\")\n",
    "        if play_again != \"y\":\n",
    "            print(\"Maybe next time!\")\n",
    "            break\n",
    "\n",
    "print(counter1)"
   ]
  },
  {
   "cell_type": "code",
   "execution_count": null,
   "id": "75a98b41-7f8d-4565-9a70-f710d7da3394",
   "metadata": {},
   "outputs": [],
   "source": []
  },
  {
   "cell_type": "code",
   "execution_count": null,
   "id": "0aa2b897-1c99-4d75-b510-9a6e576be33a",
   "metadata": {},
   "outputs": [],
   "source": []
  }
 ],
 "metadata": {
  "kernelspec": {
   "display_name": "Python 3 (ipykernel)",
   "language": "python",
   "name": "python3"
  },
  "language_info": {
   "codemirror_mode": {
    "name": "ipython",
    "version": 3
   },
   "file_extension": ".py",
   "mimetype": "text/x-python",
   "name": "python",
   "nbconvert_exporter": "python",
   "pygments_lexer": "ipython3",
   "version": "3.9.7"
  }
 },
 "nbformat": 4,
 "nbformat_minor": 5
}
