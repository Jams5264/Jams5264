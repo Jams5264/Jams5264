{
  "nbformat": 4,
  "nbformat_minor": 0,
  "metadata": {
    "colab": {
      "name": "Python_practice_oddOrEven.ipynb",
      "provenance": [],
      "authorship_tag": "ABX9TyNw6xqzsKB+man8XBk0sH2+",
      "include_colab_link": true
    },
    "kernelspec": {
      "name": "python3",
      "display_name": "Python 3"
    },
    "language_info": {
      "name": "python"
    }
  },
  "cells": [
    {
      "cell_type": "markdown",
      "metadata": {
        "id": "view-in-github",
        "colab_type": "text"
      },
      "source": [
        "<a href=\"https://colab.research.google.com/github/Jams5264/Jams5264/blob/practice/Python_practice_oddOrEven.ipynb\" target=\"_parent\"><img src=\"https://colab.research.google.com/assets/colab-badge.svg\" alt=\"Open In Colab\"/></a>"
      ]
    },
    {
      "cell_type": "code",
      "metadata": {
        "colab": {
          "base_uri": "https://localhost:8080/"
        },
        "id": "IrCwLTkA62qv",
        "outputId": "783d1f66-3d30-418a-83c7-c6da3fb5bd8b"
      },
      "source": [
        "num = int(input(\"Pick a number!  \"))\n",
        "#if statement line shows how to get remainder(modulus operator = %)\n",
        "if (num % 2) == 0:\n",
        "  print(\"You've picked an EVEN number!\")\n",
        "else: \n",
        "  print(\"You've picked an ODD number!\")"
      ],
      "execution_count": 11,
      "outputs": [
        {
          "output_type": "stream",
          "name": "stdout",
          "text": [
            "Pick a number!  7\n",
            "You've picked an ODD number!\n"
          ]
        }
      ]
    }
  ]
}