{
  "nbformat": 4,
  "nbformat_minor": 0,
  "metadata": {
    "colab": {
      "name": "Copy of  RPS_not_shared.ipynb",
      "provenance": [],
      "collapsed_sections": [],
      "authorship_tag": "ABX9TyO3llBShXXzVoHv/fYBJNfY",
      "include_colab_link": true
    },
    "kernelspec": {
      "name": "python3",
      "display_name": "Python 3"
    },
    "language_info": {
      "name": "python"
    }
  },
  "cells": [
    {
      "cell_type": "markdown",
      "metadata": {
        "id": "view-in-github",
        "colab_type": "text"
      },
      "source": [
        "<a href=\"https://colab.research.google.com/github/Jams5264/Jams5264/blob/main/RPS_not_shared.ipynb\" target=\"_parent\"><img src=\"https://colab.research.google.com/assets/colab-badge.svg\" alt=\"Open In Colab\"/></a>"
      ]
    },
    {
      "cell_type": "code",
      "metadata": {
        "id": "GhQO4tJ5ZEkN",
        "colab": {
          "base_uri": "https://localhost:8080/"
        },
        "outputId": "b346fb2f-df7b-474c-ab91-97548395cb3f"
      },
      "source": [
        "from random import randint\n",
        "\n",
        "name = input(\"Hello! What is your name?  \")\n",
        "print(\"\\nHello \"+ name+ \"! Choose your 1st play:\")\n",
        "\n",
        "\n",
        "\n",
        "#the first index of the list is the player, the second is the computer\n",
        "score = [0,0]\n",
        "\n",
        "#create a list of play options\n",
        "turn = [\"Rock\", \"Paper\", \"Scissors\"]\n",
        "\n",
        "#assign a random play to the computer\n",
        "computer = turn[randint(0,2)]\n",
        "\n",
        "#set player to False\n",
        "player = False\n",
        "\n",
        "\n",
        "counter1 = score[0]\n",
        "counter2 = score[1]\n",
        "\n",
        "\n",
        "\n",
        "while player == False:\n",
        "#set player to True\n",
        "    player = input(\"Rock, Paper, Scissors?  \\n\")\n",
        "    if player == computer:\n",
        "            print(\"Tie!\")\n",
        "    elif player == \"Rock\":\n",
        "        if computer == \"Paper\":\n",
        "            print(  name,\"loses!\", computer, \"covers\", player)\n",
        "            score[1] += 1\n",
        "        else:\n",
        "            print(  name, \"wins!\", player, \"smashes\", computer)\n",
        "            score[0] += 1\n",
        "    elif player == \"Paper\":\n",
        "        if computer == \"Scissors\":\n",
        "            print(  name,\"loses!\", computer, \"cut\", player)\n",
        "            score[1] += 1\n",
        "        else:\n",
        "            print(  name, \"wins!\", player, \"covers\", computer)\n",
        "            score[0] += 1\n",
        "    elif player == \"Scissors\":\n",
        "        if computer == \"Rock\":\n",
        "            print(  name,\"loses!\", computer, \"smashes\", player)\n",
        "            score[1] += 1\n",
        "        else:\n",
        "            print(  name, \"wins!\", player, \"cut\", computer)\n",
        "            score[0] += 1\n",
        "    else:\n",
        "        print(\"Sorry,\", name, \"that is not a valid play. Please check your spelling!\")\n",
        "\n",
        "    print(f'Player Score: {score[0]} \\nComputer Score: {score[1]}\\n')\n",
        "\n",
        "while counter1 == range(4,6):\n",
        "    print(\"You've won this round!\")\n",
        "    if counter1 == range(0,2):\n",
        "        print(\"You've lost this round!\")\n",
        "    elif counter2 == range(4,6):\n",
        "        print(\"I've won this round! Better luck next time!\")\n",
        "    elif counter2 == range(0,2):\n",
        "        print(\"I've lost this round! Great Job!\")\n",
        "    else:\n",
        "        play_again = input(\"Great game! Would you like to play again?\\n(y or n)\")\n",
        "        if play_again != \"y\":\n",
        "            print(\"Maybe next time!\")\n",
        "            break\n",
        "    player = False\n",
        "    computer = turn[randint(0,2)]   \n",
        "\n",
        "\n",
        "#for x in score:\n",
        "#  if x == 5:\n",
        "#    print(\"You've won this round!\")\n",
        "#  elif computer == 5:\n",
        "#    print(\"You've lost this round!\")\n",
        "  \n",
        "#    play_again = input(\"Play again? (y/n): \")\n",
        " #   if play_again.lower() == \"y\":\n",
        "  #    player = False\n",
        "   #   computer = turn[randint(0,2)]\n",
        "\n",
        "\n",
        "    #player was set to True, but we want it to be False so the loop continues\n",
        "\n",
        "  \n",
        "  #if either score reaches 5\n",
        "  #Then i want the score to show and say either; 'you win' or 'you lose' depending on the index that hit 5 \n",
        "  #then i want the game to end\n",
        "\n",
        "#while score == [0,0]:\n",
        "#  if score == [5,0]:\n",
        "#    print(\"You've beat me this round!\")\n",
        "#  elif score == [4,1]:\n",
        "#      print(\"You've beat me this round!\")\n",
        "#  elif score == [3,2]:\n",
        "#    print(\"You've beat me this round!\")\n",
        "#  elif score == [2,3]:\n",
        "#    print(\"You've lost this round!\")\n",
        "#  elif score == [1,4]:\n",
        "#    print(\"You've lost this round!\")\n",
        "#  else: \n",
        "#   print(\"You've lost this round!\")\n",
        "  \n",
        "#play_again = input(\"Play again? (y/n): \")\n",
        "#if play_again.lower() != \"y\":\n",
        "#  break\n",
        "\n",
        "\n",
        "\n"
      ],
      "execution_count": null,
      "outputs": [
        {
          "output_type": "stream",
          "name": "stdout",
          "text": [
            "Hello! What is your name?  Jamila\n",
            "\n",
            "Hello Jamila! Choose your 1st play:\n",
            "Rock, Paper, Scissors?  \n",
            "Rock\n",
            "Tie!\n",
            "Player Score: 0 \n",
            "Computer Score: 0\n",
            "\n"
          ]
        }
      ]
    },
    {
      "cell_type": "code",
      "metadata": {
        "id": "phZxXlK0oH35"
      },
      "source": [
        "    player = False\n",
        "    computer = turn[randint(0,2)]"
      ],
      "execution_count": null,
      "outputs": []
    }
  ]
}