{
  "nbformat": 4,
  "nbformat_minor": 0,
  "metadata": {
    "colab": {
      "name": "Python_practice_lessthan5.ipynb",
      "provenance": [],
      "authorship_tag": "ABX9TyNAi/lE6cyXJp6J85QO5iaH",
      "include_colab_link": true
    },
    "kernelspec": {
      "name": "python3",
      "display_name": "Python 3"
    },
    "language_info": {
      "name": "python"
    }
  },
  "cells": [
    {
      "cell_type": "markdown",
      "metadata": {
        "id": "view-in-github",
        "colab_type": "text"
      },
      "source": [
        "<a href=\"https://colab.research.google.com/github/Jams5264/Jams5264/blob/practice/Python_practice_lessthan5.ipynb\" target=\"_parent\"><img src=\"https://colab.research.google.com/assets/colab-badge.svg\" alt=\"Open In Colab\"/></a>"
      ]
    },
    {
      "cell_type": "code",
      "metadata": {
        "colab": {
          "base_uri": "https://localhost:8080/"
        },
        "id": "IrCwLTkA62qv",
        "outputId": "4d5c256f-ce5a-4c6c-e9b6-515c86752649"
      },
      "source": [
        "num_list = [-1, -2, -3, 0,1,2,3,4,5,2,6,7,8,4,9,0,3]\n",
        "\n",
        "#the short way to write the bottom code, but notice the bottom code lists it out\n",
        "print([numbers for numbers in num_list if numbers < 5])\n"
      ],
      "execution_count": 45,
      "outputs": [
        {
          "output_type": "stream",
          "name": "stdout",
          "text": [
            "[-1, -2, -3, 0, 1, 2, 3, 4, 2, 4, 0, 3]\n"
          ]
        }
      ]
    },
    {
      "cell_type": "code",
      "metadata": {
        "colab": {
          "base_uri": "https://localhost:8080/"
        },
        "id": "qeyu_vtOEWuT",
        "outputId": "92125227-25ea-4376-9e6a-2ab08110b782"
      },
      "source": [
        "num_list = [-1, -2, -3, 0,1,2,3,4,5,2,6,7,8,4,9,0,3]\n",
        "\n",
        "for numbers in num_list:\n",
        "  if numbers < 5:\n",
        "    print(numbers)"
      ],
      "execution_count": 41,
      "outputs": [
        {
          "output_type": "stream",
          "name": "stdout",
          "text": [
            "-1\n",
            "-2\n",
            "-3\n",
            "0\n",
            "1\n",
            "2\n",
            "3\n",
            "4\n",
            "2\n",
            "4\n",
            "0\n",
            "3\n"
          ]
        }
      ]
    }
  ]
}