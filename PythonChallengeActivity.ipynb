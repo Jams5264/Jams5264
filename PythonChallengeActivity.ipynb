{
  "nbformat": 4,
  "nbformat_minor": 0,
  "metadata": {
    "colab": {
      "name": "PythonChallengeActivity.ipynb",
      "provenance": [],
      "authorship_tag": "ABX9TyMOlD8ND5/XP/ua8XpqhC2y",
      "include_colab_link": true
    },
    "kernelspec": {
      "name": "python3",
      "display_name": "Python 3"
    },
    "language_info": {
      "name": "python"
    }
  },
  "cells": [
    {
      "cell_type": "markdown",
      "metadata": {
        "id": "view-in-github",
        "colab_type": "text"
      },
      "source": [
        "<a href=\"https://colab.research.google.com/github/Jams5264/Jams5264/blob/main/PythonChallengeActivity.ipynb\" target=\"_parent\"><img src=\"https://colab.research.google.com/assets/colab-badge.svg\" alt=\"Open In Colab\"/></a>"
      ]
    },
    {
      "cell_type": "code",
      "metadata": {
        "colab": {
          "base_uri": "https://localhost:8080/"
        },
        "id": "Lh9sdxG2Y5cb",
        "outputId": "3be73bc4-a700-4417-ec98-35588b501c36"
      },
      "source": [
        "meal = 60.50\n",
        "tax = 6.75 / 100\n",
        "meal = meal + meal * tax\n",
        "tip = 20 / 100\n",
        "\n",
        "total = round(meal + meal * tip, 2)\n",
        "print(total)"
      ],
      "execution_count": 15,
      "outputs": [
        {
          "output_type": "stream",
          "name": "stdout",
          "text": [
            "77.5\n"
          ]
        }
      ]
    },
    {
      "cell_type": "code",
      "metadata": {
        "id": "86PALfrgasUR"
      },
      "source": [
        "round (meal * tax, 2)"
      ],
      "execution_count": null,
      "outputs": []
    }
  ]
}