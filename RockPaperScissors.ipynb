{
  "nbformat": 4,
  "nbformat_minor": 0,
  "metadata": {
    "colab": {
      "name": "Untitled2.ipynb",
      "provenance": [],
      "authorship_tag": "ABX9TyMfacuzqCcVE+9fQ46oLbRK",
      "include_colab_link": true
    },
    "kernelspec": {
      "name": "python3",
      "display_name": "Python 3"
    },
    "language_info": {
      "name": "python"
    }
  },
  "cells": [
    {
      "cell_type": "markdown",
      "metadata": {
        "id": "view-in-github",
        "colab_type": "text"
      },
      "source": [
        "<a href=\"https://colab.research.google.com/github/Jams5264/Jams5264/blob/practice/RockPaperScissors.ipynb\" target=\"_parent\"><img src=\"https://colab.research.google.com/assets/colab-badge.svg\" alt=\"Open In Colab\"/></a>"
      ]
    },
    {
      "cell_type": "code",
      "metadata": {
        "id": "ugq1PkiwuqIS"
      },
      "source": [
        "from random import randint\n",
        "import time\n",
        "name = input(\"Hello! What is your name?  \")\n",
        "print(name, \"are you ready?!\")\n",
        "\n",
        "score = [0,0]\n",
        "\n",
        "#create a list of play options\n",
        "turn = [\"Rock\", \"Paper\", \"Scissors\"]\n",
        "#assign a random play to the computer\n",
        "computer = turn[randint(0,2)]\n",
        "#set player to False\n",
        "player = False\n",
        "\n",
        "\n",
        "\n",
        "\n",
        "while player == False:\n",
        "#set player to True\n",
        "    player = input(\"Rock, Paper, Scissors?  \\n\")\n",
        "    if player == computer:\n",
        "            print(\"Tie!\")\n",
        "    elif player == \"Rock\":\n",
        "        if computer == \"Paper\":\n",
        "            print(  name,\"loses!\", computer, \"covers\", player)\n",
        "            score[1] += 1\n",
        "        else:\n",
        "            print(  name, \"wins!\", player, \"smashes\", computer)\n",
        "            score[0] += 1\n",
        "    elif player == \"Paper\":\n",
        "        if computer == \"Scissors\":\n",
        "            print(  name,\"loses!\", computer, \"cut\", player)\n",
        "            score[1] += 1\n",
        "        else:\n",
        "            print(  name, \"wins!\", player, \"covers\", computer)\n",
        "            score[0] += 1\n",
        "    elif player ==\"Scissors\":\n",
        "        if computer == \"Rock\":\n",
        "            print(  name,\"loses!\", computer, \"smashes\", player)\n",
        "            score[1] += 1\n",
        "        else:\n",
        "            print(  name, \"wins!\", player, \"cut\", computer)\n",
        "            score[0] += 1\n",
        "    else:\n",
        "        print(\"Sorry,\", name, \"that is not a valid play. Please check your spelling!\")\n",
        "    print(f'Player Score: {score[0]} \\nComputer Score: {score[1]}\\n')\n",
        "    \n",
        "    #player was set to True, but we want it to be False so the loop continues\n",
        "    player = False\n",
        "    computer = turn[randint(0,2)]\n",
        "    \n",
        "    while score == [5,0]:\n",
        "        print(\"You've beat me this round!\")\n",
        "        if score == [4,1]:\n",
        "            print(\"You've beat me this round!\")\n",
        "        if score == [3,2]:\n",
        "            print(\"You've beat me this round!\")\n",
        "        if score == [2,3]:\n",
        "            print(\"You've lost this round!\")\n",
        "        if score == [1,4]:\n",
        "            print(\"You've lost this round!\")\n",
        "        if score == [0,5]:\n",
        "            print(\"You've lost this round!\")\n",
        "        else:\n",
        "            play_again = input(\"Play again? (y/n): \")\n",
        "        if play_again.lower() != \"y\":\n",
        "            break"
      ],
      "execution_count": null,
      "outputs": []
    }
  ]
}